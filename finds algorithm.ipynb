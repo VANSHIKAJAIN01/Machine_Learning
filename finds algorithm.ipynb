{
 "cells": [
  {
   "cell_type": "code",
   "execution_count": 1,
   "id": "1b9702a9",
   "metadata": {},
   "outputs": [],
   "source": [
    "import pandas as pd\n",
    "import numpy as np"
   ]
  },
  {
   "cell_type": "code",
   "execution_count": 4,
   "id": "ceb85d0b",
   "metadata": {},
   "outputs": [
    {
     "name": "stdout",
     "output_type": "stream",
     "text": [
      "   sky    air temperature humadity    wind   water forecast enjoy sport\n",
      "0    0  Sunny        Warm   Normal  Strong    Same     Same         yes\n",
      "1    1  Sunny        Warm     High  Strong    Same     Same         yes\n",
      "2    2  Rainy        cold     High  Strong  change   Change          no\n",
      "3    3  Rainy        Warm     High  Strong  change   Change         yes n\n"
     ]
    }
   ],
   "source": [
    "data = pd.read_csv(\"C:/Users/Rekha Tomar/Desktop/DATA.csv\")\n",
    "print(data,\"n\")"
   ]
  },
  {
   "cell_type": "code",
   "execution_count": 5,
   "id": "34267823",
   "metadata": {},
   "outputs": [
    {
     "name": "stdout",
     "output_type": "stream",
     "text": [
      "n the attributes are: [[0 'Sunny' 'Warm' 'Normal' 'Strong' 'Same' 'Same']\n",
      " [1 'Sunny' 'Warm' 'High' 'Strong' 'Same' 'Same']\n",
      " [2 'Rainy' 'cold' 'High' 'Strong' 'change' 'Change']\n",
      " [3 'Rainy' 'Warm' 'High' 'Strong' 'change' 'Change']]\n"
     ]
    }
   ],
   "source": [
    "d = np.array(data)[:,:-1]\n",
    "print(\"n the attributes are:\",d)"
   ]
  },
  {
   "cell_type": "code",
   "execution_count": 6,
   "id": "24434613",
   "metadata": {},
   "outputs": [
    {
     "name": "stdout",
     "output_type": "stream",
     "text": [
      "n the target is: ['yes' 'yes' 'no' 'yes']\n"
     ]
    }
   ],
   "source": [
    "target = np.array(data)[:,-1]\n",
    "print(\"n the target is:\",target)\n"
   ]
  },
  {
   "cell_type": "code",
   "execution_count": 8,
   "id": "1f9144c1",
   "metadata": {},
   "outputs": [
    {
     "name": "stdout",
     "output_type": "stream",
     "text": [
      "N THE FINAL HYPOTHESIS IS: ['?' '?' 'Warm' '?' 'Strong' '?' '?']\n"
     ]
    }
   ],
   "source": [
    "def train(c,t):\n",
    "    for i,val in enumerate(t):\n",
    "        if val == \"yes\":\n",
    "            specific_hypothesis =c[i].copy()\n",
    "            break\n",
    "            \n",
    "    for i, val in enumerate(c):\n",
    "        if t[i] == \"yes\":\n",
    "            for x in range(len(specific_hypothesis)):\n",
    "                if val[x] != specific_hypothesis[x]:\n",
    "                    specific_hypothesis[x] = '?'\n",
    "                else:\n",
    "                    pass\n",
    "    return specific_hypothesis\n",
    "print(\"N THE FINAL HYPOTHESIS IS:\",train(d,target))"
   ]
  },
  {
   "cell_type": "code",
   "execution_count": null,
   "id": "7557c64d",
   "metadata": {},
   "outputs": [],
   "source": []
  }
 ],
 "metadata": {
  "kernelspec": {
   "display_name": "Python 3 (ipykernel)",
   "language": "python",
   "name": "python3"
  },
  "language_info": {
   "codemirror_mode": {
    "name": "ipython",
    "version": 3
   },
   "file_extension": ".py",
   "mimetype": "text/x-python",
   "name": "python",
   "nbconvert_exporter": "python",
   "pygments_lexer": "ipython3",
   "version": "3.10.9"
  }
 },
 "nbformat": 4,
 "nbformat_minor": 5
}
