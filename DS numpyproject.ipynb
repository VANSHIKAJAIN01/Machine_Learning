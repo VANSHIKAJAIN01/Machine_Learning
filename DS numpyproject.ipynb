{
 "cells": [
  {
   "cell_type": "code",
   "execution_count": 1,
   "id": "d949daf1",
   "metadata": {},
   "outputs": [
    {
     "name": "stdout",
     "output_type": "stream",
     "text": [
      "[['November' 'Week 1' 9 22 7 28 13 23 11 27 12 21 8 31 14 31]\n",
      " ['November' 'Week 2' 7 32 13 21 11 25 -13 31 12 32 7 32 14 29]\n",
      " ['November' 'Week 3' 12 25 13 27 15 32 10 30 8 31 8 24 10 24]\n",
      " ['November' 'Week 4' 10 24 13 21 11 32 6 25 12 26 8 25 13 20]\n",
      " ['December' 'Week 1' 15 32 13 22 6 20 7 22 11 24 6 31 8 21]\n",
      " ['December' 'Week 2' 12 28 15 31 13 23 13 28 12 30 7 29 13 21]\n",
      " ['December' 'Week 3' 11 22 13 23 11 28 7 26 10 28 14 27 6 23]\n",
      " ['December' 'Week 4' 14 23 12 26 13 23 6 28 8 31 9 24 11 32]\n",
      " ['January' 'Week 1' 2 22 6 21 3 21 2 18 8 22 3 2 22 6]\n",
      " ['January' 'Week 2' 3 18 6 21 4 19 3 22 5 22 8 7 21 7]\n",
      " ['January' 'Week 3' 8 22 5 22 2 21 4 20 2 19 4 7 21 8]\n",
      " ['January' 'Week 4' 6 18 6 22 8 20 7 19 2 21 2 3 21 4]\n",
      " ['February' 'Week 1' 10 19 9 20 -10 19 8 19 9 22 11 71 20 12]\n",
      " ['February' 'Week 2' 9 21 10 20 10 22 12 22 11 19 10 11 21 7]\n",
      " ['February' 'Week 3' 11 22 11 20 10 22 11 20 10 20 7 8 18 7]\n",
      " ['February' 'Week 4' 9 22 9 18 9 19 12 20 7 21 8 12 18 12]]\n"
     ]
    }
   ],
   "source": [
    "import numpy as np\n",
    "\n",
    "data = [\n",
    "    [\"Month\", \"Week\", \"Monday\", \"Tuesday\", \"Wednesday\", \"Thursday\", \"Friday\", \"Saturday\", \"Sunday\"],\n",
    "    [\"November\", \"Week 1\", 9, 22, 7, 28, 13, 23, 11, 27, 12, 21, 8, 31, 14, 31],\n",
    "    [\"November\", \"Week 2\", 7, 32, 13, 21, 11, 25, -13, 31, 12, 32, 7, 32, 14, 29],\n",
    "    [\"November\", \"Week 3\", 12, 25, 13, 27, 15, 32, 10, 30, 8, 31, 8, 24, 10, 24],\n",
    "    [\"November\", \"Week 4\", 10, 24, 13, 21, 11, 32, 6, 25, 12, 26, 8, 25, 13, 20],\n",
    "    [\"December\", \"Week 1\", 15, 32, 13, 22, 6, 20, 7, 22, 11, 24, 6, 31, 8, 21],\n",
    "    [\"December\", \"Week 2\", 12, 28, 15, 31, 13, 23, 13, 28, 12, 30, 7, 29, 13, 21],\n",
    "    [\"December\", \"Week 3\", 11, 22, 13, 23, 11, 28, 7, 26, 10, 28, 14, 27, 6, 23],\n",
    "    [\"December\", \"Week 4\", 14, 23, 12, 26, 13, 23, 6, 28, 8, 31, 9, 24, 11, 32],\n",
    "    [\"January\", \"Week 1\", 2, 22, 6, 21, 3, 21, 2, 18, 8, 22, 3, 2, 22, 6],\n",
    "    [\"January\", \"Week 2\", 3, 18, 6, 21, 4, 19, 3, 22, 5, 22, 8, 7, 21, 7],\n",
    "    [\"January\", \"Week 3\", 8, 22, 5, 22, 2, 21, 4, 20, 2, 19, 4, 7, 21, 8],\n",
    "    [\"January\", \"Week 4\", 6, 18, 6, 22, 8, 20, 7, 19, 2, 21, 2, 3, 21, 4],\n",
    "    [\"February\", \"Week 1\", 10, 19, 9, 20, -10, 19, 8, 19, 9, 22, 11, 71, 20, 12],\n",
    "    [\"February\", \"Week 2\", 9, 21, 10, 20, 10, 22, 12, 22, 11, 19, 10, 11, 21, 7],\n",
    "    [\"February\", \"Week 3\", 11, 22, 11, 20, 10, 22, 11, 20, 10, 20, 7, 8, 18, 7],\n",
    "    [\"February\", \"Week 4\", 9, 22, 9, 18, 9, 19, 12, 20, 7, 21, 8, 12, 18, 12]\n",
    "]\n",
    "\n",
    "# Convert data to a NumPy array\n",
    "temperature_array = np.array(data[1:], dtype=object)\n",
    "\n",
    "# Display the array\n",
    "print(temperature_array)\n"
   ]
  },
  {
   "cell_type": "code",
   "execution_count": 2,
   "id": "75c302b0",
   "metadata": {},
   "outputs": [
    {
     "name": "stdout",
     "output_type": "stream",
     "text": [
      "Dimensions: 2\n",
      "Shape: (16, 16)\n"
     ]
    }
   ],
   "source": [
    "#Write the dimensions and shape of the NumPy array that you have created.\n",
    "# Dimensions of the NumPy array\n",
    "dimensions = temperature_array.ndim\n",
    "\n",
    "# Shape of the NumPy array\n",
    "shape = temperature_array.shape\n",
    "\n",
    "print(\"Dimensions:\", dimensions)\n",
    "print(\"Shape:\", shape)\n"
   ]
  },
  {
   "cell_type": "code",
   "execution_count": 5,
   "id": "9a9ec275",
   "metadata": {},
   "outputs": [
    {
     "name": "stdout",
     "output_type": "stream",
     "text": [
      "Month: November, Week: Week 1, Temperatures: [9 22 7 28 13 23 11 27 12 21 8 31 14 31]\n",
      "Month: December, Week: Week 1, Temperatures: [15 32 13 22 6 20 7 22 11 24 6 31 8 21]\n",
      "Month: January, Week: Week 1, Temperatures: [2 22 6 21 3 21 2 18 8 22 3 2 22 6]\n",
      "Month: February, Week: Week 1, Temperatures: [10 19 9 20 -10 19 8 19 9 22 11 71 20 12]\n"
     ]
    }
   ],
   "source": [
    "#Print the daily temperatures for the first week of each month.\n",
    "# Find the indices of rows corresponding to the first week of each month\n",
    "first_week_indices = np.where(temperature_array[:, 1] == 'Week 1')[0]\n",
    "\n",
    "# Print the daily temperatures for the first week of each month\n",
    "for idx in first_week_indices:\n",
    "    month = temperature_array[idx, 0]\n",
    "    week = temperature_array[idx, 1]\n",
    "    temperatures = temperature_array[idx, 2:]\n",
    "    print(f\"Month: {month}, Week: {week}, Temperatures: {temperatures}\")\n"
   ]
  },
  {
   "cell_type": "code",
   "execution_count": 12,
   "id": "e6fcdf90",
   "metadata": {},
   "outputs": [
    {
     "name": "stdout",
     "output_type": "stream",
     "text": [
      "Month: November, Tuesday Temperature: 22\n",
      "Month: November, Tuesday Temperature: 32\n",
      "Month: November, Tuesday Temperature: 25\n",
      "Month: November, Tuesday Temperature: 24\n",
      "Month: December, Tuesday Temperature: 32\n",
      "Month: December, Tuesday Temperature: 28\n",
      "Month: December, Tuesday Temperature: 22\n",
      "Month: December, Tuesday Temperature: 23\n",
      "Month: January, Tuesday Temperature: 22\n",
      "Month: January, Tuesday Temperature: 18\n",
      "Month: January, Tuesday Temperature: 22\n",
      "Month: January, Tuesday Temperature: 18\n",
      "Month: February, Tuesday Temperature: 19\n",
      "Month: February, Tuesday Temperature: 21\n",
      "Month: February, Tuesday Temperature: 22\n",
      "Month: February, Tuesday Temperature: 22\n"
     ]
    }
   ],
   "source": [
    "#Print the temperatures for Tuesday of each month.\n",
    "header_row = data[0]\n",
    "tuesday_column_index = header_row.index(\"Tuesday\")\n",
    "\n",
    "# Print the temperatures for Tuesday of each month\n",
    "for row in temperature_array:\n",
    "    month = row[0]\n",
    "    tuesday_temperature = row[tuesday_column_index]\n",
    "    print(f\"Month: {month}, Tuesday Temperature: {tuesday_temperature}\")"
   ]
  },
  {
   "cell_type": "code",
   "execution_count": 13,
   "id": "f5489990",
   "metadata": {},
   "outputs": [
    {
     "name": "stdout",
     "output_type": "stream",
     "text": [
      "Maximum Temperatures for Weekdays of December:\n",
      "Week 5: 32\n",
      "Week 6: 31\n",
      "Week 7: 28\n",
      "Week 8: 26\n",
      "\n",
      "Maximum Temperatures for Weekdays of February:\n",
      "Week 13: 20\n",
      "Week 14: 22\n",
      "Week 15: 22\n",
      "Week 16: 22\n"
     ]
    }
   ],
   "source": [
    "# Find the indices of December and February rows\n",
    "december_indices = np.where(temperature_array[:, 0] == 'December')[0]\n",
    "february_indices = np.where(temperature_array[:, 0] == 'February')[0]\n",
    "\n",
    "# Find the indices of the weekdays columns\n",
    "monday_index = data[0].index(\"Monday\")\n",
    "sunday_index = data[0].index(\"Sunday\")\n",
    "\n",
    "# Print the maximum temperature for weekdays of December\n",
    "print(\"Maximum Temperatures for Weekdays of December:\")\n",
    "for index in december_indices:\n",
    "    temperatures = temperature_array[index, monday_index:sunday_index+1]\n",
    "    max_temp = np.max(temperatures)\n",
    "    print(f\"Week {index+1}: {max_temp}\")\n",
    "\n",
    "# Print the maximum temperature for weekdays of February\n",
    "print(\"\\nMaximum Temperatures for Weekdays of February:\")\n",
    "for index in february_indices:\n",
    "    temperatures = temperature_array[index, monday_index:sunday_index+1]\n",
    "    max_temp = np.max(temperatures)\n",
    "    print(f\"Week {index+1}: {max_temp}\")"
   ]
  },
  {
   "cell_type": "code",
   "execution_count": null,
   "id": "c93da726",
   "metadata": {},
   "outputs": [],
   "source": []
  }
 ],
 "metadata": {
  "kernelspec": {
   "display_name": "Python 3 (ipykernel)",
   "language": "python",
   "name": "python3"
  },
  "language_info": {
   "codemirror_mode": {
    "name": "ipython",
    "version": 3
   },
   "file_extension": ".py",
   "mimetype": "text/x-python",
   "name": "python",
   "nbconvert_exporter": "python",
   "pygments_lexer": "ipython3",
   "version": "3.10.9"
  }
 },
 "nbformat": 4,
 "nbformat_minor": 5
}
